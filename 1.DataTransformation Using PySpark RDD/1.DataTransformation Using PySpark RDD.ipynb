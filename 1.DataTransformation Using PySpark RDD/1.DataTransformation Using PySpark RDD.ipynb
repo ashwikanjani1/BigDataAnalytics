{
 "cells": [
  {
   "cell_type": "code",
   "execution_count": 1,
   "id": "c763c02f-a5e1-45f8-940d-d164c095944f",
   "metadata": {},
   "outputs": [],
   "source": [
    "import random\n",
    "from pyspark.sql import SparkSession"
   ]
  },
  {
   "cell_type": "markdown",
   "id": "e08572ad-eec3-407d-bbb9-5ef7327ccd38",
   "metadata": {},
   "source": [
    "import the Python random module for generating random values and the SparkSession class from PySpark to create a Spark environment for data processing."
   ]
  },
  {
   "cell_type": "code",
   "execution_count": 2,
   "id": "3fe1c53e-293e-4b7b-8248-f418057e09a0",
   "metadata": {},
   "outputs": [],
   "source": [
    "spark = SparkSession.builder.appName(\"EvenNumberFilter\").getOrCreate()\n",
    "sc = spark.sparkContext"
   ]
  },
  {
   "cell_type": "markdown",
   "id": "7532f974-1852-4cc8-8365-147592f71e8e",
   "metadata": {},
   "source": [
    "create a Spark session named \"EvenNumberFilter\" to set up the Spark environment and then access its SparkContext (sc) for performing RDD operations."
   ]
  },
  {
   "cell_type": "code",
   "execution_count": 3,
   "id": "19dfd07c-f164-4bcd-9fb5-d15fe6d95661",
   "metadata": {},
   "outputs": [
    {
     "name": "stdout",
     "output_type": "stream",
     "text": [
      "=== Original List ===\n",
      "[932, 386, 793, 728, 952, 55, 440, 491, 923, 116, 630, 30, 117, 107, 79, 374, 659, 467, 88, 432, 842, 907, 905, 222, 688, 275, 20, 198, 784, 186, 712, 987, 794, 184, 580, 934, 581, 309, 655, 689, 652, 527, 515, 888, 530, 261, 568, 943, 683, 486, 260, 422, 511, 912, 738, 338, 597, 511, 822, 331, 159, 930, 854, 755, 26, 525, 563, 954, 890, 150, 806, 515, 839, 152, 398, 541, 349, 868, 938, 273, 483, 695, 170, 271, 368, 43, 916, 616, 721, 447, 857, 504, 782, 905, 245, 857, 652, 821, 908, 971]\n"
     ]
    }
   ],
   "source": [
    "random_numbers = [random.randint(1, 1000) for _ in range(100)]\n",
    "print(\"=== Original List ===\")\n",
    "print(random_numbers)"
   ]
  },
  {
   "cell_type": "markdown",
   "id": "96081dda-0cd9-4b5e-bfe1-6741017ac40c",
   "metadata": {},
   "source": [
    "generate a list of 100 random integers between 1 and 1000, and then print a header followed by the generated list."
   ]
  },
  {
   "cell_type": "code",
   "execution_count": 4,
   "id": "b38e9d73-b865-4151-89fa-b325da3fad7e",
   "metadata": {},
   "outputs": [],
   "source": [
    "numbers_rdd = sc.parallelize(random_numbers)"
   ]
  },
  {
   "cell_type": "markdown",
   "id": "e623008a-88f3-41b9-87cb-a40c6c9eef66",
   "metadata": {},
   "source": [
    "converts the random_numbers Python list into a Spark RDD named numbers_rdd, allowing distributed processing of the numbers."
   ]
  },
  {
   "cell_type": "code",
   "execution_count": 5,
   "id": "6f1a27f9-9bdb-4432-ac4f-c03f03fa09bd",
   "metadata": {},
   "outputs": [],
   "source": [
    "even_numbers_rdd = numbers_rdd.filter(lambda x: x % 2 == 0)"
   ]
  },
  {
   "cell_type": "markdown",
   "id": "a75aa265-d354-48b5-830e-936e19651f6d",
   "metadata": {},
   "source": [
    "filters the numbers_rdd to include only even numbers, creating a new RDD even_numbers_rdd."
   ]
  },
  {
   "cell_type": "code",
   "execution_count": 6,
   "id": "e40716e4-e0f9-403d-bd3e-7a54c67139b4",
   "metadata": {},
   "outputs": [
    {
     "name": "stdout",
     "output_type": "stream",
     "text": [
      "\n",
      "Even Numbers:\n",
      "[932, 386, 728, 952, 440, 116, 630, 30, 374, 88, 432, 842, 222, 688, 20, 198, 784, 186, 712, 794, 184, 580, 934, 652, 888, 530, 568, 486, 260, 422, 912, 738, 338, 822, 930, 854, 26, 954, 890, 150, 806, 152, 398, 868, 938, 170, 368, 916, 616, 504, 782, 652, 908]\n"
     ]
    }
   ],
   "source": [
    "even_numbers = even_numbers_rdd.collect()\n",
    "print(\"\\nEven Numbers:\")\n",
    "print(even_numbers)"
   ]
  },
  {
   "cell_type": "markdown",
   "id": "61bb023e-156d-4dac-8d6a-f73fb7dd37cd",
   "metadata": {},
   "source": [
    "collect all elements of the even_numbers_rdd into a Python list and then print a header followed by the list of even numbers."
   ]
  }
 ],
 "metadata": {
  "kernelspec": {
   "display_name": "Python 3 (ipykernel)",
   "language": "python",
   "name": "python3"
  },
  "language_info": {
   "codemirror_mode": {
    "name": "ipython",
    "version": 3
   },
   "file_extension": ".py",
   "mimetype": "text/x-python",
   "name": "python",
   "nbconvert_exporter": "python",
   "pygments_lexer": "ipython3",
   "version": "3.11.0"
  }
 },
 "nbformat": 4,
 "nbformat_minor": 5
}
