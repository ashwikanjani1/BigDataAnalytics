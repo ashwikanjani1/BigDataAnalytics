{
 "cells": [
  {
   "cell_type": "markdown",
   "id": "0fffe30d-fd31-4d6b-bbbb-1486cba08f18",
   "metadata": {},
   "source": [
    "**DataTransformation Using PySpark RDD**"
   ]
  },
  {
   "cell_type": "code",
   "execution_count": 1,
   "id": "33d6fe1e-8f1f-4f34-8f66-318648d20041",
   "metadata": {},
   "outputs": [
    {
     "data": {
      "text/html": [
       "\n",
       "        <div>\n",
       "            <p><b>SparkContext</b></p>\n",
       "\n",
       "            <p><a href=\"http://LAPTOP-2P70OJO0:4042\">Spark UI</a></p>\n",
       "\n",
       "            <dl>\n",
       "              <dt>Version</dt>\n",
       "                <dd><code>v4.0.1</code></dd>\n",
       "              <dt>Master</dt>\n",
       "                <dd><code>local[*]</code></dd>\n",
       "              <dt>AppName</dt>\n",
       "                <dd><code>PySparkShell</code></dd>\n",
       "            </dl>\n",
       "        </div>\n",
       "        "
      ],
      "text/plain": [
       "<SparkContext master=local[*] appName=PySparkShell>"
      ]
     },
     "execution_count": 1,
     "metadata": {},
     "output_type": "execute_result"
    }
   ],
   "source": [
    "sc"
   ]
  },
  {
   "cell_type": "code",
   "execution_count": 2,
   "id": "11cdc014-2ef5-4aef-8cb0-72e10fbe90bf",
   "metadata": {},
   "outputs": [],
   "source": [
    "import random"
   ]
  },
  {
   "cell_type": "code",
   "execution_count": 3,
   "id": "65ec47b6-88ce-4194-a2a1-8fe90851acd1",
   "metadata": {},
   "outputs": [
    {
     "name": "stdout",
     "output_type": "stream",
     "text": [
      "Original List:\n",
      "[338, 43, 829, 43, 159, 860, 689, 1, 376, 592, 434, 937, 228, 834, 985, 182, 710, 219, 285, 260, 449, 295, 618, 371, 904, 218, 192, 524, 218, 665, 718, 847, 721, 116, 608, 573, 564, 460, 695, 185, 607, 742, 96, 266, 506, 389, 582, 454, 551, 113, 819, 389, 104, 583, 729, 624, 906, 808, 561, 357, 804, 57, 780, 815, 493, 383, 571, 388, 850, 815, 39, 204, 761, 696, 234, 588, 262, 954, 407, 201, 101, 511, 548, 284, 91, 112, 933, 403, 16, 750, 855, 706, 296, 745, 844, 364, 732, 181, 464, 272]\n"
     ]
    }
   ],
   "source": [
    "random_numbers = [random.randint(1, 1000) for _ in range(100)]\n",
    "print(\"Original List:\")\n",
    "print(random_numbers)"
   ]
  },
  {
   "cell_type": "code",
   "execution_count": 4,
   "id": "3c82522e-5dbb-4bc2-9d58-175826fe42e3",
   "metadata": {},
   "outputs": [],
   "source": [
    "numbers_rdd = sc.parallelize(random_numbers)"
   ]
  },
  {
   "cell_type": "code",
   "execution_count": 5,
   "id": "38f538d9-59fd-42b6-9bdc-355d05c433e7",
   "metadata": {},
   "outputs": [],
   "source": [
    "even_numbers_rdd = numbers_rdd.filter(lambda x: x % 2 == 0)"
   ]
  },
  {
   "cell_type": "code",
   "execution_count": 6,
   "id": "3ea668b9-9e63-4971-9da1-3b355f2ae15e",
   "metadata": {},
   "outputs": [
    {
     "name": "stdout",
     "output_type": "stream",
     "text": [
      "\n",
      "Even Numbers:\n",
      "[338, 860, 376, 592, 434, 228, 834, 182, 710, 260, 618, 904, 218, 192, 524, 218, 718, 116, 608, 564, 460, 742, 96, 266, 506, 582, 454, 104, 624, 906, 808, 804, 780, 388, 850, 204, 696, 234, 588, 262, 954, 548, 284, 112, 16, 750, 706, 296, 844, 364, 732, 464, 272]\n"
     ]
    }
   ],
   "source": [
    "even_numbers = even_numbers_rdd.collect()\n",
    "print(\"\\nEven Numbers:\")\n",
    "print(even_numbers)"
   ]
  },
  {
   "cell_type": "markdown",
   "id": "49188e5b-f3ef-46f5-a469-d14ebbfda6f7",
   "metadata": {},
   "source": [
    "**Conclusion**\n",
    "This PySpark program successfully filters even numbers from a list of randomly generated integers using RDD transformations. It shows how PySpark can handle distributed data processing efficiently, even for simple tasks. The program demonstrates key Spark operations like creating an RDD, applying a filter transformation, and collecting the results. Overall, it highlights the basic working of PySpark RDDs and how they can be used for parallel data processing in real-time big data applications."
   ]
  }
 ],
 "metadata": {
  "kernelspec": {
   "display_name": "Python 3 (ipykernel)",
   "language": "python",
   "name": "python3"
  },
  "language_info": {
   "codemirror_mode": {
    "name": "ipython",
    "version": 3
   },
   "file_extension": ".py",
   "mimetype": "text/x-python",
   "name": "python",
   "nbconvert_exporter": "python",
   "pygments_lexer": "ipython3",
   "version": "3.11.0"
  }
 },
 "nbformat": 4,
 "nbformat_minor": 5
}
