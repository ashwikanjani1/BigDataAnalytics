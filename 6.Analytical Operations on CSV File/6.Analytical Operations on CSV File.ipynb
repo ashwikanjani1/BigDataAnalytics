{
 "cells": [
  {
   "cell_type": "code",
   "execution_count": 1,
   "id": "7f1be94e-588b-490f-81f2-536671848111",
   "metadata": {},
   "outputs": [],
   "source": [
    "from pyspark.sql import SparkSession\n",
    "from pyspark.sql.functions import col, round, max, min, avg"
   ]
  },
  {
   "cell_type": "markdown",
   "id": "04778e99-e2fb-4217-adef-0784bdda0dbd",
   "metadata": {},
   "source": [
    "These statements set up the Spark environment and import tools to access data columns and perform basic statistical computations."
   ]
  },
  {
   "cell_type": "code",
   "execution_count": 2,
   "id": "8c9e5dfd-4923-43ea-8769-9f75bfe55f5f",
   "metadata": {},
   "outputs": [],
   "source": [
    "spark = SparkSession.builder.appName(\"HousingAdvancedExample\").getOrCreate()"
   ]
  },
  {
   "cell_type": "markdown",
   "id": "575116db-a3de-474c-abb6-d3229d9346c9",
   "metadata": {},
   "source": [
    "This statement sets up the Spark environment by creating a Spark session named \"HousingAdvancedExample\", which serves as the entry point for reading, processing, and analyzing large datasets."
   ]
  },
  {
   "cell_type": "code",
   "execution_count": 3,
   "id": "fd5ec150-5a7b-4e8b-9d38-2fafe6249d71",
   "metadata": {},
   "outputs": [],
   "source": [
    "df = spark.read.csv(\"Housing.csv\", header=True, inferSchema=True)\n",
    "df = df.withColumn(\"price_per_sqft\", round(col(\"price\") / col(\"area\"), 2))"
   ]
  },
  {
   "cell_type": "markdown",
   "id": "25f72f56-7dfb-4a17-bf45-dc516cced2f6",
   "metadata": {},
   "source": [
    "The statements read the dataset \"Housing.csv\" into a Spark DataFrame with headers and automatically inferred data types, and then create a new column \"price_per_sqft\" by calculating the price per unit area, rounded to two decimal places."
   ]
  },
  {
   "cell_type": "code",
   "execution_count": 4,
   "id": "7e580fa1-cf3e-452c-8374-5788dd86a78b",
   "metadata": {},
   "outputs": [
    {
     "name": "stdout",
     "output_type": "stream",
     "text": [
      "=== Top 10 Most Expensive Houses ===\n",
      "+--------+-----+--------+---------+-------+--------+---------+--------+---------------+---------------+-------+--------+----------------+--------------+\n",
      "|   price| area|bedrooms|bathrooms|stories|mainroad|guestroom|basement|hotwaterheating|airconditioning|parking|prefarea|furnishingstatus|price_per_sqft|\n",
      "+--------+-----+--------+---------+-------+--------+---------+--------+---------------+---------------+-------+--------+----------------+--------------+\n",
      "|13300000| 7420|       4|        2|      3|     yes|       no|      no|             no|            yes|      2|     yes|       furnished|       1792.45|\n",
      "|12250000| 8960|       4|        4|      4|     yes|       no|      no|             no|            yes|      3|      no|       furnished|       1367.19|\n",
      "|12250000| 9960|       3|        2|      2|     yes|       no|     yes|             no|             no|      2|     yes|  semi-furnished|       1229.92|\n",
      "|12215000| 7500|       4|        2|      2|     yes|       no|     yes|             no|            yes|      3|     yes|       furnished|       1628.67|\n",
      "|11410000| 7420|       4|        1|      2|     yes|      yes|     yes|             no|            yes|      2|      no|       furnished|       1537.74|\n",
      "|10850000| 7500|       3|        3|      1|     yes|       no|     yes|             no|            yes|      2|     yes|  semi-furnished|       1446.67|\n",
      "|10150000| 8580|       4|        3|      4|     yes|       no|      no|             no|            yes|      2|     yes|  semi-furnished|       1182.98|\n",
      "|10150000|16200|       5|        3|      2|     yes|       no|      no|             no|             no|      0|      no|     unfurnished|        626.54|\n",
      "| 9870000| 8100|       4|        1|      2|     yes|      yes|     yes|             no|            yes|      2|     yes|       furnished|       1218.52|\n",
      "| 9800000| 5750|       3|        2|      4|     yes|      yes|      no|             no|            yes|      1|     yes|     unfurnished|       1704.35|\n",
      "+--------+-----+--------+---------+-------+--------+---------+--------+---------------+---------------+-------+--------+----------------+--------------+\n",
      "only showing top 10 rows\n"
     ]
    }
   ],
   "source": [
    "print(\"=== Top 10 Most Expensive Houses ===\")\n",
    "df.orderBy(col(\"price\").desc()).show(10)"
   ]
  },
  {
   "cell_type": "markdown",
   "id": "00d6ce8c-f1ba-4df0-8a28-6d776d019cc9",
   "metadata": {},
   "source": [
    "display a header message and then show the top 10 most expensive houses by ordering the DataFrame in descending order based on the \"price\" column."
   ]
  },
  {
   "cell_type": "code",
   "execution_count": 5,
   "id": "4ad57045-a441-4c48-87f1-748742bbe491",
   "metadata": {},
   "outputs": [
    {
     "name": "stdout",
     "output_type": "stream",
     "text": [
      "=== Cheapest 10 Houses ===\n",
      "+-------+----+--------+---------+-------+--------+---------+--------+---------------+---------------+-------+--------+----------------+--------------+\n",
      "|  price|area|bedrooms|bathrooms|stories|mainroad|guestroom|basement|hotwaterheating|airconditioning|parking|prefarea|furnishingstatus|price_per_sqft|\n",
      "+-------+----+--------+---------+-------+--------+---------+--------+---------------+---------------+-------+--------+----------------+--------------+\n",
      "|1750000|3620|       2|        1|      1|     yes|       no|      no|             no|             no|      0|      no|     unfurnished|        483.43|\n",
      "|1750000|2910|       3|        1|      1|      no|       no|      no|             no|             no|      0|      no|       furnished|        601.37|\n",
      "|1750000|3850|       3|        1|      2|     yes|       no|      no|             no|             no|      0|      no|     unfurnished|        454.55|\n",
      "|1767150|2400|       3|        1|      1|      no|       no|      no|             no|             no|      0|      no|  semi-furnished|        736.31|\n",
      "|1820000|3000|       2|        1|      1|     yes|       no|     yes|             no|             no|      2|      no|     unfurnished|        606.67|\n",
      "|1855000|2990|       2|        1|      1|      no|       no|      no|             no|             no|      1|      no|     unfurnished|         620.4|\n",
      "|1890000|3649|       2|        1|      1|     yes|       no|      no|             no|             no|      0|      no|     unfurnished|        517.95|\n",
      "|1890000|1700|       3|        1|      2|     yes|       no|      no|             no|             no|      0|      no|     unfurnished|       1111.76|\n",
      "|1960000|3420|       5|        1|      2|      no|       no|      no|             no|             no|      0|      no|     unfurnished|         573.1|\n",
      "|2100000|2400|       3|        1|      2|     yes|       no|      no|             no|             no|      0|      no|     unfurnished|         875.0|\n",
      "+-------+----+--------+---------+-------+--------+---------+--------+---------------+---------------+-------+--------+----------------+--------------+\n",
      "only showing top 10 rows\n"
     ]
    }
   ],
   "source": [
    "print(\"=== Cheapest 10 Houses ===\")\n",
    "df.orderBy(col(\"price\").asc()).show(10)"
   ]
  },
  {
   "cell_type": "markdown",
   "id": "540e1cb2-657d-47da-bf0d-0e281c052f5c",
   "metadata": {},
   "source": [
    "display a header message and then show the 10 cheapest houses by ordering the DataFrame in ascending order based on the \"price\" column."
   ]
  },
  {
   "cell_type": "code",
   "execution_count": 6,
   "id": "85e0b87a-72cb-4d13-bf1d-d9ca2dd59a04",
   "metadata": {},
   "outputs": [
    {
     "name": "stdout",
     "output_type": "stream",
     "text": [
      "=== Average Price by Bedrooms ===\n",
      "+--------+----------+\n",
      "|bedrooms| avg_price|\n",
      "+--------+----------+\n",
      "|       1| 2712500.0|\n",
      "|       2|3632022.06|\n",
      "|       3|4954598.13|\n",
      "|       4|5729757.89|\n",
      "|       5| 5819800.0|\n",
      "|       6| 4791500.0|\n",
      "+--------+----------+\n",
      "\n"
     ]
    }
   ],
   "source": [
    "print(\"=== Average Price by Bedrooms ===\")\n",
    "df.groupBy(\"bedrooms\").agg(round(avg(\"price\"), 2).alias(\"avg_price\")).orderBy(\"bedrooms\").show()"
   ]
  },
  {
   "cell_type": "markdown",
   "id": "ffc85408-b87c-46db-97e6-013e615a2170",
   "metadata": {},
   "source": [
    "display a header message and then calculate the average house price for each number of bedrooms, rounding the results to two decimal places, and show the data ordered by the number of bedrooms."
   ]
  },
  {
   "cell_type": "code",
   "execution_count": 7,
   "id": "1967db3e-c058-4d95-81e4-fc890fdfe83f",
   "metadata": {},
   "outputs": [
    {
     "name": "stdout",
     "output_type": "stream",
     "text": [
      "=== Average Price per Sq.Ft by Bathrooms ===\n",
      "+---------+-------+\n",
      "|bathrooms|avg_pps|\n",
      "+---------+-------+\n",
      "|        1| 933.64|\n",
      "|        2|1153.87|\n",
      "|        3|1213.92|\n",
      "|        4|1367.19|\n",
      "+---------+-------+\n",
      "\n"
     ]
    }
   ],
   "source": [
    "print(\"=== Average Price per Sq.Ft by Bathrooms ===\")\n",
    "df.groupBy(\"bathrooms\").agg(round(avg(\"price_per_sqft\"), 2).alias(\"avg_pps\")).orderBy(\"bathrooms\").show()"
   ]
  },
  {
   "cell_type": "markdown",
   "id": "6328ad09-7c55-4a63-9a83-77fc0b836f45",
   "metadata": {},
   "source": [
    "These statements display a header message and then calculate the average price per square foot for each number of bathrooms, rounding the results to two decimal places, and show the data ordered by the number of bathrooms."
   ]
  },
  {
   "cell_type": "code",
   "execution_count": 8,
   "id": "642af97a-1977-4db5-a4fe-cba338bc421c",
   "metadata": {
    "scrolled": true
   },
   "outputs": [
    {
     "name": "stdout",
     "output_type": "stream",
     "text": [
      "=== Max and Min Price by Bedrooms ===\n",
      "+--------+---------+---------+\n",
      "|bedrooms|max_price|min_price|\n",
      "+--------+---------+---------+\n",
      "|       1|  3150000|  2275000|\n",
      "|       6|  6083000|  3500000|\n",
      "|       3| 12250000|  1750000|\n",
      "|       5| 10150000|  1960000|\n",
      "|       4| 13300000|  2100000|\n",
      "+--------+---------+---------+\n",
      "only showing top 5 rows\n"
     ]
    }
   ],
   "source": [
    "print(\"=== Max and Min Price by Bedrooms ===\")\n",
    "df.groupBy(\"bedrooms\").agg(\n",
    "    max(\"price\").alias(\"max_price\"),\n",
    "    min(\"price\").alias(\"min_price\")\n",
    ").show(5)"
   ]
  },
  {
   "cell_type": "markdown",
   "id": "a178756a-60ec-4ee9-8b33-396759e795df",
   "metadata": {},
   "source": [
    "These statements display a header message and then calculate the maximum and minimum house prices for each number of bedrooms, showing the first five results."
   ]
  }
 ],
 "metadata": {
  "kernelspec": {
   "display_name": "Python 3 (ipykernel)",
   "language": "python",
   "name": "python3"
  },
  "language_info": {
   "codemirror_mode": {
    "name": "ipython",
    "version": 3
   },
   "file_extension": ".py",
   "mimetype": "text/x-python",
   "name": "python",
   "nbconvert_exporter": "python",
   "pygments_lexer": "ipython3",
   "version": "3.11.0"
  }
 },
 "nbformat": 4,
 "nbformat_minor": 5
}
