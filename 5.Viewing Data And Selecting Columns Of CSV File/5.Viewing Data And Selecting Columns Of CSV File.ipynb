{
 "cells": [
  {
   "cell_type": "code",
   "execution_count": 1,
   "id": "2fb23ba1-ea45-417f-b019-d05d631b3c25",
   "metadata": {},
   "outputs": [],
   "source": [
    "from pyspark.sql import SparkSession\n",
    "from pyspark.sql.functions import col, avg, round"
   ]
  },
  {
   "cell_type": "markdown",
   "id": "5f59c651-0ce1-412f-93e7-87fed710428d",
   "metadata": {},
   "source": [
    "import the SparkSession class to create a Spark environment for data processing, and import functions col, avg, and round to select DataFrame columns, calculate averages, and round numerical values."
   ]
  },
  {
   "cell_type": "code",
   "execution_count": 2,
   "id": "d38db62d-96bb-47d5-bbdd-a49df2ab0145",
   "metadata": {},
   "outputs": [],
   "source": [
    "spark = SparkSession.builder.appName(\"HousingDataFrameExample\").getOrCreate()"
   ]
  },
  {
   "cell_type": "markdown",
   "id": "0f869f28-26bf-4450-ac33-0918bdbafff7",
   "metadata": {},
   "source": [
    "creates a Spark session named \"HousingDataFrameExample\", establishing the Spark environment needed to read, process, and analyze data using DataFrames."
   ]
  },
  {
   "cell_type": "code",
   "execution_count": 3,
   "id": "01587be2-3a37-4843-8e24-4161fe40f21b",
   "metadata": {},
   "outputs": [],
   "source": [
    "df = spark.read.csv(\"housing.csv\", header=True, inferSchema=True)"
   ]
  },
  {
   "cell_type": "markdown",
   "id": "f3265dd1-b5ac-4654-98f8-5216e52cf1f7",
   "metadata": {},
   "source": [
    "This statement reads the file \"housing.csv\" into a Spark DataFrame, using the first row as headers and automatically inferring the data types of each column."
   ]
  },
  {
   "cell_type": "code",
   "execution_count": 4,
   "id": "713af6c9-c444-4590-a408-5b8ff94b2b07",
   "metadata": {},
   "outputs": [
    {
     "name": "stdout",
     "output_type": "stream",
     "text": [
      "+--------+-----+--------+---------+-------+--------+---------+--------+---------------+---------------+-------+--------+----------------+\n",
      "|   price| area|bedrooms|bathrooms|stories|mainroad|guestroom|basement|hotwaterheating|airconditioning|parking|prefarea|furnishingstatus|\n",
      "+--------+-----+--------+---------+-------+--------+---------+--------+---------------+---------------+-------+--------+----------------+\n",
      "|13300000| 7420|       4|        2|      3|     yes|       no|      no|             no|            yes|      2|     yes|       furnished|\n",
      "|12250000| 8960|       4|        4|      4|     yes|       no|      no|             no|            yes|      3|      no|       furnished|\n",
      "|12250000| 9960|       3|        2|      2|     yes|       no|     yes|             no|             no|      2|     yes|  semi-furnished|\n",
      "|12215000| 7500|       4|        2|      2|     yes|       no|     yes|             no|            yes|      3|     yes|       furnished|\n",
      "|11410000| 7420|       4|        1|      2|     yes|      yes|     yes|             no|            yes|      2|      no|       furnished|\n",
      "|10850000| 7500|       3|        3|      1|     yes|       no|     yes|             no|            yes|      2|     yes|  semi-furnished|\n",
      "|10150000| 8580|       4|        3|      4|     yes|       no|      no|             no|            yes|      2|     yes|  semi-furnished|\n",
      "|10150000|16200|       5|        3|      2|     yes|       no|      no|             no|             no|      0|      no|     unfurnished|\n",
      "| 9870000| 8100|       4|        1|      2|     yes|      yes|     yes|             no|            yes|      2|     yes|       furnished|\n",
      "| 9800000| 5750|       3|        2|      4|     yes|      yes|      no|             no|            yes|      1|     yes|     unfurnished|\n",
      "+--------+-----+--------+---------+-------+--------+---------+--------+---------------+---------------+-------+--------+----------------+\n",
      "only showing top 10 rows\n"
     ]
    }
   ],
   "source": [
    "df.show(10)"
   ]
  },
  {
   "cell_type": "markdown",
   "id": "2555aa82-3aad-43eb-9586-2c15efd539c9",
   "metadata": {},
   "source": [
    "displays the first 10 rows of the DataFrame, allowing a quick view of the dataset’s contents."
   ]
  },
  {
   "cell_type": "code",
   "execution_count": 5,
   "id": "8cf79ae4-93bf-4ff2-87ae-ace587677a27",
   "metadata": {},
   "outputs": [
    {
     "name": "stdout",
     "output_type": "stream",
     "text": [
      "root\n",
      " |-- price: integer (nullable = true)\n",
      " |-- area: integer (nullable = true)\n",
      " |-- bedrooms: integer (nullable = true)\n",
      " |-- bathrooms: integer (nullable = true)\n",
      " |-- stories: integer (nullable = true)\n",
      " |-- mainroad: string (nullable = true)\n",
      " |-- guestroom: string (nullable = true)\n",
      " |-- basement: string (nullable = true)\n",
      " |-- hotwaterheating: string (nullable = true)\n",
      " |-- airconditioning: string (nullable = true)\n",
      " |-- parking: integer (nullable = true)\n",
      " |-- prefarea: string (nullable = true)\n",
      " |-- furnishingstatus: string (nullable = true)\n",
      "\n"
     ]
    }
   ],
   "source": [
    "df.printSchema()"
   ]
  },
  {
   "cell_type": "markdown",
   "id": "25ade9be-d6ed-4f30-abbc-7ead3ad0a12a",
   "metadata": {},
   "source": [
    "displays the schema of the DataFrame, showing each column’s name, data type, and whether it allows null values."
   ]
  },
  {
   "cell_type": "code",
   "execution_count": 6,
   "id": "fa2b4670-000c-40ed-a5c4-17e7df629b2c",
   "metadata": {},
   "outputs": [
    {
     "name": "stdout",
     "output_type": "stream",
     "text": [
      "+-------+------------------+------------------+------------------+------------------+------------------+--------+---------+--------+---------------+---------------+------------------+--------+----------------+\n",
      "|summary|             price|              area|          bedrooms|         bathrooms|           stories|mainroad|guestroom|basement|hotwaterheating|airconditioning|           parking|prefarea|furnishingstatus|\n",
      "+-------+------------------+------------------+------------------+------------------+------------------+--------+---------+--------+---------------+---------------+------------------+--------+----------------+\n",
      "|  count|               545|               545|               545|               545|               545|     545|      545|     545|            545|            545|               545|     545|             545|\n",
      "|   mean| 4766729.247706422|  5150.54128440367|2.9651376146788992|1.2862385321100918|1.8055045871559634|    NULL|     NULL|    NULL|           NULL|           NULL|0.6935779816513762|    NULL|            NULL|\n",
      "| stddev|1870439.6156573943|2170.1410225088025|0.7380638605685749|0.5024696160532152|0.8674924629255263|    NULL|     NULL|    NULL|           NULL|           NULL|0.8615857504605414|    NULL|            NULL|\n",
      "|    min|           1750000|              1650|                 1|                 1|                 1|      no|       no|      no|             no|             no|                 0|      no|       furnished|\n",
      "|    max|          13300000|             16200|                 6|                 4|                 4|     yes|      yes|     yes|            yes|            yes|                 3|     yes|     unfurnished|\n",
      "+-------+------------------+------------------+------------------+------------------+------------------+--------+---------+--------+---------------+---------------+------------------+--------+----------------+\n",
      "\n"
     ]
    }
   ],
   "source": [
    "df.describe().show()"
   ]
  },
  {
   "cell_type": "markdown",
   "id": "e936cf7c-1f37-4afd-ba9c-cb47a72e18e5",
   "metadata": {},
   "source": [
    "computes and displays summary statistics for the DataFrame’s numerical columns, including count, mean, standard deviation, minimum, and maximum values."
   ]
  },
  {
   "cell_type": "code",
   "execution_count": 7,
   "id": "c76c99a0-1f91-4ff7-8b56-1fd80f4c2350",
   "metadata": {},
   "outputs": [
    {
     "name": "stdout",
     "output_type": "stream",
     "text": [
      "Total rows: 545\n"
     ]
    }
   ],
   "source": [
    "print(\"Total rows:\", df.count())"
   ]
  },
  {
   "cell_type": "markdown",
   "id": "e5b4287d-d3d6-4e89-b1e2-84c2de5d2a7a",
   "metadata": {},
   "source": [
    "prints the total number of rows in the DataFrame, representing the number of records in the dataset."
   ]
  },
  {
   "cell_type": "code",
   "execution_count": 8,
   "id": "ae18d901-7915-4d0d-9b75-ac21ff6d52b7",
   "metadata": {},
   "outputs": [
    {
     "name": "stdout",
     "output_type": "stream",
     "text": [
      "Columns: ['price', 'area', 'bedrooms', 'bathrooms', 'stories', 'mainroad', 'guestroom', 'basement', 'hotwaterheating', 'airconditioning', 'parking', 'prefarea', 'furnishingstatus']\n"
     ]
    }
   ],
   "source": [
    "print(\"Columns:\", df.columns)"
   ]
  },
  {
   "cell_type": "markdown",
   "id": "ec3a0a55-06e1-416f-b047-06c8d9c3eb63",
   "metadata": {},
   "source": [
    "This statement prints the list of column names in the DataFrame, showing all available fields in the dataset."
   ]
  },
  {
   "cell_type": "code",
   "execution_count": 9,
   "id": "77d3e45f-1970-4636-b2a2-ac9fa0e9a8e6",
   "metadata": {},
   "outputs": [
    {
     "name": "stdout",
     "output_type": "stream",
     "text": [
      "+--------+-----+--------+\n",
      "|   price| area|bedrooms|\n",
      "+--------+-----+--------+\n",
      "|13300000| 7420|       4|\n",
      "|12250000| 8960|       4|\n",
      "|12250000| 9960|       3|\n",
      "|12215000| 7500|       4|\n",
      "|11410000| 7420|       4|\n",
      "|10850000| 7500|       3|\n",
      "|10150000| 8580|       4|\n",
      "|10150000|16200|       5|\n",
      "| 9870000| 8100|       4|\n",
      "| 9800000| 5750|       3|\n",
      "+--------+-----+--------+\n",
      "only showing top 10 rows\n"
     ]
    }
   ],
   "source": [
    "df.select(\"price\", \"area\", \"bedrooms\").show(10)"
   ]
  },
  {
   "cell_type": "markdown",
   "id": "4131d3e9-7c53-4745-a0d9-2e86fa64bfd0",
   "metadata": {},
   "source": [
    "selects the \"price\", \"area\", and \"bedrooms\" columns from the DataFrame and displays the first 10 rows of these selected columns."
   ]
  },
  {
   "cell_type": "code",
   "execution_count": 10,
   "id": "5b740738-af7e-4936-99ab-769583a6f3fd",
   "metadata": {},
   "outputs": [
    {
     "name": "stdout",
     "output_type": "stream",
     "text": [
      "+--------+-----+--------+---------+-------+--------+---------+--------+---------------+---------------+-------+--------+----------------+\n",
      "|   price| area|bedrooms|bathrooms|stories|mainroad|guestroom|basement|hotwaterheating|airconditioning|parking|prefarea|furnishingstatus|\n",
      "+--------+-----+--------+---------+-------+--------+---------+--------+---------------+---------------+-------+--------+----------------+\n",
      "|13300000| 7420|       4|        2|      3|     yes|       no|      no|             no|            yes|      2|     yes|       furnished|\n",
      "|12250000| 8960|       4|        4|      4|     yes|       no|      no|             no|            yes|      3|      no|       furnished|\n",
      "|12250000| 9960|       3|        2|      2|     yes|       no|     yes|             no|             no|      2|     yes|  semi-furnished|\n",
      "|12215000| 7500|       4|        2|      2|     yes|       no|     yes|             no|            yes|      3|     yes|       furnished|\n",
      "|11410000| 7420|       4|        1|      2|     yes|      yes|     yes|             no|            yes|      2|      no|       furnished|\n",
      "|10850000| 7500|       3|        3|      1|     yes|       no|     yes|             no|            yes|      2|     yes|  semi-furnished|\n",
      "|10150000| 8580|       4|        3|      4|     yes|       no|      no|             no|            yes|      2|     yes|  semi-furnished|\n",
      "|10150000|16200|       5|        3|      2|     yes|       no|      no|             no|             no|      0|      no|     unfurnished|\n",
      "| 9870000| 8100|       4|        1|      2|     yes|      yes|     yes|             no|            yes|      2|     yes|       furnished|\n",
      "| 9800000| 5750|       3|        2|      4|     yes|      yes|      no|             no|            yes|      1|     yes|     unfurnished|\n",
      "+--------+-----+--------+---------+-------+--------+---------+--------+---------------+---------------+-------+--------+----------------+\n",
      "only showing top 10 rows\n"
     ]
    }
   ],
   "source": [
    "df.filter((col(\"area\") >= 2000) & (col(\"bedrooms\") >= 3)).show(10)"
   ]
  },
  {
   "cell_type": "markdown",
   "id": "9a043165-1e27-4fa9-b758-99a1a6b2fe22",
   "metadata": {},
   "source": [
    "filters the DataFrame to include only houses with an area of at least 2000 and at least 3 bedrooms, and then displays the first 10 matching rows."
   ]
  },
  {
   "cell_type": "code",
   "execution_count": 11,
   "id": "afed6be0-8454-4ae2-8a45-32a204cc6a71",
   "metadata": {},
   "outputs": [
    {
     "name": "stdout",
     "output_type": "stream",
     "text": [
      "+--------+-----+--------+---------+-------+--------+---------+--------+---------------+---------------+-------+--------+----------------+--------------+\n",
      "|   price| area|bedrooms|bathrooms|stories|mainroad|guestroom|basement|hotwaterheating|airconditioning|parking|prefarea|furnishingstatus|price_per_sqft|\n",
      "+--------+-----+--------+---------+-------+--------+---------+--------+---------------+---------------+-------+--------+----------------+--------------+\n",
      "|13300000| 7420|       4|        2|      3|     yes|       no|      no|             no|            yes|      2|     yes|       furnished|       1792.45|\n",
      "|12250000| 8960|       4|        4|      4|     yes|       no|      no|             no|            yes|      3|      no|       furnished|       1367.19|\n",
      "|12250000| 9960|       3|        2|      2|     yes|       no|     yes|             no|             no|      2|     yes|  semi-furnished|       1229.92|\n",
      "|12215000| 7500|       4|        2|      2|     yes|       no|     yes|             no|            yes|      3|     yes|       furnished|       1628.67|\n",
      "|11410000| 7420|       4|        1|      2|     yes|      yes|     yes|             no|            yes|      2|      no|       furnished|       1537.74|\n",
      "|10850000| 7500|       3|        3|      1|     yes|       no|     yes|             no|            yes|      2|     yes|  semi-furnished|       1446.67|\n",
      "|10150000| 8580|       4|        3|      4|     yes|       no|      no|             no|            yes|      2|     yes|  semi-furnished|       1182.98|\n",
      "|10150000|16200|       5|        3|      2|     yes|       no|      no|             no|             no|      0|      no|     unfurnished|        626.54|\n",
      "| 9870000| 8100|       4|        1|      2|     yes|      yes|     yes|             no|            yes|      2|     yes|       furnished|       1218.52|\n",
      "| 9800000| 5750|       3|        2|      4|     yes|      yes|      no|             no|            yes|      1|     yes|     unfurnished|       1704.35|\n",
      "+--------+-----+--------+---------+-------+--------+---------+--------+---------------+---------------+-------+--------+----------------+--------------+\n",
      "only showing top 10 rows\n"
     ]
    }
   ],
   "source": [
    "df_with_pps = df.withColumn(\"price_per_sqft\", round(col(\"price\") / col(\"area\"), 2))\n",
    "df_with_pps.show(10)"
   ]
  },
  {
   "cell_type": "markdown",
   "id": "0c951a86-62e6-455a-864e-4341680f28c7",
   "metadata": {},
   "source": [
    "create a new column \"price_per_sqft\" by dividing the \"price\" by the \"area\" and rounding the result to two decimal places, then display the first 10 rows of the updated DataFrame."
   ]
  },
  {
   "cell_type": "code",
   "execution_count": 12,
   "id": "ddad7731-c001-42b8-95d1-bc376079d705",
   "metadata": {},
   "outputs": [
    {
     "name": "stdout",
     "output_type": "stream",
     "text": [
      "+--------+-----+--------+---------+-------+--------+---------+--------+---------------+---------------+-------+--------+----------------+--------------+\n",
      "|   price| area|bedrooms|bathrooms|stories|mainroad|guestroom|basement|hotwaterheating|airconditioning|parking|prefarea|furnishingstatus|price_per_sqft|\n",
      "+--------+-----+--------+---------+-------+--------+---------+--------+---------------+---------------+-------+--------+----------------+--------------+\n",
      "|13300000| 7420|       4|        2|      3|     yes|       no|      no|             no|            yes|      2|     yes|       furnished|       1792.45|\n",
      "|12250000| 8960|       4|        4|      4|     yes|       no|      no|             no|            yes|      3|      no|       furnished|       1367.19|\n",
      "|12250000| 9960|       3|        2|      2|     yes|       no|     yes|             no|             no|      2|     yes|  semi-furnished|       1229.92|\n",
      "|12215000| 7500|       4|        2|      2|     yes|       no|     yes|             no|            yes|      3|     yes|       furnished|       1628.67|\n",
      "|11410000| 7420|       4|        1|      2|     yes|      yes|     yes|             no|            yes|      2|      no|       furnished|       1537.74|\n",
      "|10850000| 7500|       3|        3|      1|     yes|       no|     yes|             no|            yes|      2|     yes|  semi-furnished|       1446.67|\n",
      "|10150000| 8580|       4|        3|      4|     yes|       no|      no|             no|            yes|      2|     yes|  semi-furnished|       1182.98|\n",
      "|10150000|16200|       5|        3|      2|     yes|       no|      no|             no|             no|      0|      no|     unfurnished|        626.54|\n",
      "| 9870000| 8100|       4|        1|      2|     yes|      yes|     yes|             no|            yes|      2|     yes|       furnished|       1218.52|\n",
      "| 9800000| 5750|       3|        2|      4|     yes|      yes|      no|             no|            yes|      1|     yes|     unfurnished|       1704.35|\n",
      "+--------+-----+--------+---------+-------+--------+---------+--------+---------------+---------------+-------+--------+----------------+--------------+\n",
      "only showing top 10 rows\n"
     ]
    }
   ],
   "source": [
    "df_with_pps.filter(col(\"price\") >= 1000000).orderBy(col(\"price\").desc()).show(10)"
   ]
  },
  {
   "cell_type": "markdown",
   "id": "e85ec1fc-6e16-4e93-8b3d-54071bd2858c",
   "metadata": {},
   "source": [
    "filters the DataFrame to include only houses with a price of at least 1,000,000, orders them in descending order by price, and displays the top 10 most expensive houses."
   ]
  },
  {
   "cell_type": "code",
   "execution_count": 13,
   "id": "65fdc053-4d65-4150-b225-56d91a1d2238",
   "metadata": {},
   "outputs": [
    {
     "name": "stdout",
     "output_type": "stream",
     "text": [
      "+--------+----------+-------+\n",
      "|bedrooms| avg_price|avg_pps|\n",
      "+--------+----------+-------+\n",
      "|       1| 2712500.0| 743.05|\n",
      "|       6| 4791500.0|1193.44|\n",
      "|       3|4954598.13|1029.64|\n",
      "|       5| 5819800.0| 1089.3|\n",
      "|       4|5729757.89|1077.88|\n",
      "|       2|3632022.06| 847.85|\n",
      "+--------+----------+-------+\n",
      "\n"
     ]
    }
   ],
   "source": [
    "df_with_pps.groupBy(\"bedrooms\").agg(\n",
    "    round(avg(\"price\"), 2).alias(\"avg_price\"),\n",
    "    round(avg(\"price_per_sqft\"), 2).alias(\"avg_pps\")\n",
    ").show()"
   ]
  },
  {
   "cell_type": "markdown",
   "id": "d1a75b5e-f44e-46b7-adcb-98727f3698da",
   "metadata": {},
   "source": [
    "groups the DataFrame by the number of bedrooms and calculates two metrics for each group: the average price and the average price per square foot, both rounded to two decimal places, and then displays the results."
   ]
  }
 ],
 "metadata": {
  "kernelspec": {
   "display_name": "Python 3 (ipykernel)",
   "language": "python",
   "name": "python3"
  },
  "language_info": {
   "codemirror_mode": {
    "name": "ipython",
    "version": 3
   },
   "file_extension": ".py",
   "mimetype": "text/x-python",
   "name": "python",
   "nbconvert_exporter": "python",
   "pygments_lexer": "ipython3",
   "version": "3.11.0"
  }
 },
 "nbformat": 4,
 "nbformat_minor": 5
}
