{
 "cells": [
  {
   "cell_type": "code",
   "execution_count": 1,
   "id": "745d9615-7433-44c6-bac8-d6bb0bd26d92",
   "metadata": {},
   "outputs": [],
   "source": [
    "from pyspark.sql import SparkSession\n",
    "from pyspark.sql.functions import col, round, avg"
   ]
  },
  {
   "cell_type": "markdown",
   "id": "dcc32c57-4d4a-4750-910e-bd2e4e221f47",
   "metadata": {},
   "source": [
    "import the SparkSession class to create a Spark environment for data processing, and import the functions col, round, and avg to select DataFrame columns, calculate averages, and round numerical values."
   ]
  },
  {
   "cell_type": "code",
   "execution_count": 2,
   "id": "eea47213-ddb3-4daa-ab75-4aec41a73b6a",
   "metadata": {},
   "outputs": [],
   "source": [
    "spark = SparkSession.builder.appName(\"HousingDataFrameExample\").getOrCreate()"
   ]
  },
  {
   "cell_type": "markdown",
   "id": "8334a397-2017-401b-8399-dc7948585d44",
   "metadata": {},
   "source": [
    "This statement creates a Spark session named \"HousingDataFrameExample\", establishing the Spark environment needed to read, process, and analyze data using DataFrames."
   ]
  },
  {
   "cell_type": "code",
   "execution_count": 3,
   "id": "58fa0f13-2eb9-41a6-94a3-523759531539",
   "metadata": {},
   "outputs": [],
   "source": [
    "df = spark.read.csv(\"Housing.csv\", header=True, inferSchema=True)"
   ]
  },
  {
   "cell_type": "markdown",
   "id": "2618d7e5-d014-4d23-ac24-3e94b822367f",
   "metadata": {},
   "source": [
    "reads the file \"Housing.csv\" into a Spark DataFrame, using the first row as headers and automatically inferring the data types of each column."
   ]
  },
  {
   "cell_type": "code",
   "execution_count": 4,
   "id": "5f6527a4-694c-41b0-a304-fa0e9c0f0994",
   "metadata": {},
   "outputs": [
    {
     "name": "stdout",
     "output_type": "stream",
     "text": [
      "=== First 10 rows ===\n",
      "+--------+-----+--------+---------+-------+--------+---------+--------+---------------+---------------+-------+--------+----------------+\n",
      "|   price| area|bedrooms|bathrooms|stories|mainroad|guestroom|basement|hotwaterheating|airconditioning|parking|prefarea|furnishingstatus|\n",
      "+--------+-----+--------+---------+-------+--------+---------+--------+---------------+---------------+-------+--------+----------------+\n",
      "|13300000| 7420|       4|        2|      3|     yes|       no|      no|             no|            yes|      2|     yes|       furnished|\n",
      "|12250000| 8960|       4|        4|      4|     yes|       no|      no|             no|            yes|      3|      no|       furnished|\n",
      "|12250000| 9960|       3|        2|      2|     yes|       no|     yes|             no|             no|      2|     yes|  semi-furnished|\n",
      "|12215000| 7500|       4|        2|      2|     yes|       no|     yes|             no|            yes|      3|     yes|       furnished|\n",
      "|11410000| 7420|       4|        1|      2|     yes|      yes|     yes|             no|            yes|      2|      no|       furnished|\n",
      "|10850000| 7500|       3|        3|      1|     yes|       no|     yes|             no|            yes|      2|     yes|  semi-furnished|\n",
      "|10150000| 8580|       4|        3|      4|     yes|       no|      no|             no|            yes|      2|     yes|  semi-furnished|\n",
      "|10150000|16200|       5|        3|      2|     yes|       no|      no|             no|             no|      0|      no|     unfurnished|\n",
      "| 9870000| 8100|       4|        1|      2|     yes|      yes|     yes|             no|            yes|      2|     yes|       furnished|\n",
      "| 9800000| 5750|       3|        2|      4|     yes|      yes|      no|             no|            yes|      1|     yes|     unfurnished|\n",
      "+--------+-----+--------+---------+-------+--------+---------+--------+---------------+---------------+-------+--------+----------------+\n",
      "only showing top 10 rows\n"
     ]
    }
   ],
   "source": [
    "print(\"=== First 10 rows ===\")\n",
    "df.show(10)"
   ]
  },
  {
   "cell_type": "markdown",
   "id": "e8656fb7-7e29-41ea-82bf-2cc2cd643da9",
   "metadata": {},
   "source": [
    "To display a header message and then show the first 10 rows of the DataFrame, providing a quick view of the dataset’s contents."
   ]
  },
  {
   "cell_type": "code",
   "execution_count": 5,
   "id": "5c189270-e8bd-40c3-b14c-64a4ab58ca06",
   "metadata": {},
   "outputs": [
    {
     "name": "stdout",
     "output_type": "stream",
     "text": [
      "=== Schema ===\n",
      "root\n",
      " |-- price: integer (nullable = true)\n",
      " |-- area: integer (nullable = true)\n",
      " |-- bedrooms: integer (nullable = true)\n",
      " |-- bathrooms: integer (nullable = true)\n",
      " |-- stories: integer (nullable = true)\n",
      " |-- mainroad: string (nullable = true)\n",
      " |-- guestroom: string (nullable = true)\n",
      " |-- basement: string (nullable = true)\n",
      " |-- hotwaterheating: string (nullable = true)\n",
      " |-- airconditioning: string (nullable = true)\n",
      " |-- parking: integer (nullable = true)\n",
      " |-- prefarea: string (nullable = true)\n",
      " |-- furnishingstatus: string (nullable = true)\n",
      "\n"
     ]
    }
   ],
   "source": [
    "print(\"=== Schema ===\")\n",
    "df.printSchema()"
   ]
  },
  {
   "cell_type": "markdown",
   "id": "82d63236-fc3b-4da4-bef4-308ecdd3c884",
   "metadata": {},
   "source": [
    "To display a header message and then show the schema of the DataFrame, including column names, data types, and nullability."
   ]
  },
  {
   "cell_type": "code",
   "execution_count": 6,
   "id": "fdaaca6d-c05a-4b89-93fc-ab4b0a1353b3",
   "metadata": {},
   "outputs": [
    {
     "name": "stdout",
     "output_type": "stream",
     "text": [
      "Total rows: 545\n"
     ]
    }
   ],
   "source": [
    "print(\"Total rows:\", df.count())"
   ]
  },
  {
   "cell_type": "markdown",
   "id": "e0956ea4-7705-4da6-a1b8-77db2515523f",
   "metadata": {},
   "source": [
    "prints the total number of rows in the DataFrame, representing the total number of records in the dataset."
   ]
  },
  {
   "cell_type": "code",
   "execution_count": 7,
   "id": "8b1e0ec2-188a-4642-b999-bd3c23924e80",
   "metadata": {},
   "outputs": [
    {
     "name": "stdout",
     "output_type": "stream",
     "text": [
      "Columns: ['price', 'area', 'bedrooms', 'bathrooms', 'stories', 'mainroad', 'guestroom', 'basement', 'hotwaterheating', 'airconditioning', 'parking', 'prefarea', 'furnishingstatus']\n"
     ]
    }
   ],
   "source": [
    "print(\"Columns:\", df.columns)"
   ]
  },
  {
   "cell_type": "code",
   "execution_count": 8,
   "id": "1908e2b9-fa71-4cbc-8d8b-8ff5fb7e6528",
   "metadata": {},
   "outputs": [
    {
     "name": "stdout",
     "output_type": "stream",
     "text": [
      "+-----+--------+--------+\n",
      "| area|bedrooms|   price|\n",
      "+-----+--------+--------+\n",
      "| 7420|       4|13300000|\n",
      "| 8960|       4|12250000|\n",
      "| 9960|       3|12250000|\n",
      "| 7500|       4|12215000|\n",
      "| 7420|       4|11410000|\n",
      "| 7500|       3|10850000|\n",
      "| 8580|       4|10150000|\n",
      "|16200|       5|10150000|\n",
      "| 8100|       4| 9870000|\n",
      "| 5750|       3| 9800000|\n",
      "+-----+--------+--------+\n",
      "only showing top 10 rows\n"
     ]
    }
   ],
   "source": [
    "df.select(\"area\", \"bedrooms\", \"price\").show(10)"
   ]
  },
  {
   "cell_type": "markdown",
   "id": "ee4220c6-1105-49ab-82eb-e5b358fe7900",
   "metadata": {},
   "source": [
    "selects the \"area\", \"bedrooms\", and \"price\" columns from the DataFrame and displays the first 10 rows of these selected columns."
   ]
  },
  {
   "cell_type": "code",
   "execution_count": 9,
   "id": "3f2f5d09-a14f-41ea-9785-25560a013bbd",
   "metadata": {},
   "outputs": [
    {
     "name": "stdout",
     "output_type": "stream",
     "text": [
      "+-------+----+--------+---------+-------+--------+---------+--------+---------------+---------------+-------+--------+----------------+\n",
      "|  price|area|bedrooms|bathrooms|stories|mainroad|guestroom|basement|hotwaterheating|airconditioning|parking|prefarea|furnishingstatus|\n",
      "+-------+----+--------+---------+-------+--------+---------+--------+---------------+---------------+-------+--------+----------------+\n",
      "|9240000|7800|       3|        2|      2|     yes|       no|      no|             no|             no|      0|     yes|  semi-furnished|\n",
      "|8960000|8500|       3|        2|      4|     yes|       no|      no|             no|            yes|      2|      no|       furnished|\n",
      "|8645000|8050|       3|        1|      1|     yes|      yes|     yes|             no|            yes|      1|      no|       furnished|\n",
      "|8575000|8800|       3|        2|      2|     yes|       no|      no|             no|            yes|      2|      no|       furnished|\n",
      "|8400000|8875|       3|        1|      1|     yes|       no|      no|             no|             no|      1|      no|  semi-furnished|\n",
      "+-------+----+--------+---------+-------+--------+---------+--------+---------------+---------------+-------+--------+----------------+\n",
      "only showing top 5 rows\n"
     ]
    }
   ],
   "source": [
    "df.filter((col(\"area\") >= 7800) & (col(\"price\") <= 9240000)).show(5)"
   ]
  },
  {
   "cell_type": "markdown",
   "id": "f78e233d-cb32-410c-8d6f-67c8934b7ad2",
   "metadata": {},
   "source": [
    "filters the DataFrame to include only houses with an area of at least 7800 and a price of at most 9,240,000, and then displays the first 5 matching rows."
   ]
  },
  {
   "cell_type": "code",
   "execution_count": 10,
   "id": "12c491b0-f43d-4046-894b-c2661903b271",
   "metadata": {},
   "outputs": [
    {
     "name": "stdout",
     "output_type": "stream",
     "text": [
      "+--------+----+--------+---------+-------+--------+---------+--------+---------------+---------------+-------+--------+----------------+--------------+\n",
      "|   price|area|bedrooms|bathrooms|stories|mainroad|guestroom|basement|hotwaterheating|airconditioning|parking|prefarea|furnishingstatus|price_per_area|\n",
      "+--------+----+--------+---------+-------+--------+---------+--------+---------------+---------------+-------+--------+----------------+--------------+\n",
      "|13300000|7420|       4|        2|      3|     yes|       no|      no|             no|            yes|      2|     yes|       furnished|       1792.45|\n",
      "|12250000|8960|       4|        4|      4|     yes|       no|      no|             no|            yes|      3|      no|       furnished|       1367.19|\n",
      "|12250000|9960|       3|        2|      2|     yes|       no|     yes|             no|             no|      2|     yes|  semi-furnished|       1229.92|\n",
      "|12215000|7500|       4|        2|      2|     yes|       no|     yes|             no|            yes|      3|     yes|       furnished|       1628.67|\n",
      "|11410000|7420|       4|        1|      2|     yes|      yes|     yes|             no|            yes|      2|      no|       furnished|       1537.74|\n",
      "+--------+----+--------+---------+-------+--------+---------+--------+---------------+---------------+-------+--------+----------------+--------------+\n",
      "only showing top 5 rows\n"
     ]
    }
   ],
   "source": [
    "df_with_pps = df.withColumn(\"price_per_area\", round(col(\"price\") / col(\"area\"), 2))\n",
    "df_with_pps.show(5)"
   ]
  },
  {
   "cell_type": "markdown",
   "id": "1221c4c8-d80c-468a-91e5-d20497986a82",
   "metadata": {},
   "source": [
    "create a new column \"price_per_area\" by dividing the \"price\" by \"area\" and rounding the result to two decimal places, then display the first 5 rows of the updated DataFrame."
   ]
  },
  {
   "cell_type": "code",
   "execution_count": 11,
   "id": "0163b011-b3a3-4c9d-85ae-f19aba1cd474",
   "metadata": {},
   "outputs": [
    {
     "name": "stdout",
     "output_type": "stream",
     "text": [
      "+-----+----+--------+---------+-------+--------+---------+--------+---------------+---------------+-------+--------+----------------+--------------+\n",
      "|price|area|bedrooms|bathrooms|stories|mainroad|guestroom|basement|hotwaterheating|airconditioning|parking|prefarea|furnishingstatus|price_per_area|\n",
      "+-----+----+--------+---------+-------+--------+---------+--------+---------------+---------------+-------+--------+----------------+--------------+\n",
      "+-----+----+--------+---------+-------+--------+---------+--------+---------------+---------------+-------+--------+----------------+--------------+\n",
      "\n"
     ]
    }
   ],
   "source": [
    "df_with_pps.filter(col(\"price_per_area\") >= 8000).orderBy(col(\"price_per_area\").desc()).show(5)"
   ]
  },
  {
   "cell_type": "markdown",
   "id": "2761ab51-56bb-4cc6-8f50-bb7c26bd9b10",
   "metadata": {},
   "source": [
    "This statement filters the DataFrame to include only houses with a \"price_per_area\" of at least 8000, orders them in descending order by \"price_per_area\", and displays the top 5 rows."
   ]
  },
  {
   "cell_type": "code",
   "execution_count": 12,
   "id": "d4129a84-3d99-43b8-af77-5fccc5ca28de",
   "metadata": {},
   "outputs": [
    {
     "name": "stdout",
     "output_type": "stream",
     "text": [
      "+--------+----------+-------+\n",
      "|bedrooms| avg_price|avg_pps|\n",
      "+--------+----------+-------+\n",
      "|       1| 2712500.0| 743.05|\n",
      "|       6| 4791500.0|1193.44|\n",
      "|       3|4954598.13|1029.64|\n",
      "|       5| 5819800.0| 1089.3|\n",
      "|       4|5729757.89|1077.88|\n",
      "|       2|3632022.06| 847.85|\n",
      "+--------+----------+-------+\n",
      "\n"
     ]
    }
   ],
   "source": [
    "df_with_pps.groupBy(\"bedrooms\").agg(\n",
    "    round(avg(\"price\"), 2).alias(\"avg_price\"),\n",
    "    round(avg(\"price_per_area\"), 2).alias(\"avg_pps\")\n",
    ").show()"
   ]
  },
  {
   "cell_type": "markdown",
   "id": "1837c65e-729b-413b-88b9-0e4ec050d4bf",
   "metadata": {},
   "source": [
    "filters the DataFrame to include only houses with a \"price_per_area\" of at least 8000, orders them in descending order by \"price_per_area\", and displays the top 5 rows."
   ]
  },
  {
   "cell_type": "code",
   "execution_count": null,
   "id": "f64d39f6-bbb0-4c44-94b4-7a6bd22d16bc",
   "metadata": {},
   "outputs": [],
   "source": []
  }
 ],
 "metadata": {
  "kernelspec": {
   "display_name": "Python 3 (ipykernel)",
   "language": "python",
   "name": "python3"
  },
  "language_info": {
   "codemirror_mode": {
    "name": "ipython",
    "version": 3
   },
   "file_extension": ".py",
   "mimetype": "text/x-python",
   "name": "python",
   "nbconvert_exporter": "python",
   "pygments_lexer": "ipython3",
   "version": "3.11.0"
  }
 },
 "nbformat": 4,
 "nbformat_minor": 5
}
