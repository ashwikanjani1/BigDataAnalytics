{
 "cells": [
  {
   "cell_type": "code",
   "execution_count": 1,
   "id": "0ec80fb3-1340-48fb-8589-2690eab34f9b",
   "metadata": {},
   "outputs": [],
   "source": [
    "from pyspark.sql import SparkSession"
   ]
  },
  {
   "cell_type": "markdown",
   "id": "f9ca5922-dd02-4e60-92ca-e2db5cec7018",
   "metadata": {},
   "source": [
    "imports the SparkSession class from PySpark, which is used to create a Spark environment for reading, processing, and analyzing data."
   ]
  },
  {
   "cell_type": "code",
   "execution_count": 2,
   "id": "286ac612-e97a-4deb-be52-fcefa2c13260",
   "metadata": {},
   "outputs": [],
   "source": [
    "spark = SparkSession.builder.appName(\"HousingRDDExample\").getOrCreate()\n",
    "sc = spark.sparkContext"
   ]
  },
  {
   "cell_type": "markdown",
   "id": "2c5e6c32-eba5-41dc-b06f-ad5a9fad0af9",
   "metadata": {},
   "source": [
    "These statements create a Spark session named `\"HousingRDDExample\"` to set up the Spark environment, and then access its SparkContext (`sc`) to work with low-level RDD operations."
   ]
  },
  {
   "cell_type": "code",
   "execution_count": 3,
   "id": "f8db873b-9fd0-45c7-a44c-246cb629b561",
   "metadata": {},
   "outputs": [],
   "source": [
    "data = sc.textFile(\"Housing.csv\")"
   ]
  },
  {
   "cell_type": "markdown",
   "id": "31db1387-6777-4888-9df5-addd24a3eb0a",
   "metadata": {},
   "source": [
    "This statement reads the file `\"Housing.csv\"` as a Resilient Distributed Dataset (RDD) of text lines, allowing low-level Spark operations on each line of the dataset."
   ]
  },
  {
   "cell_type": "code",
   "execution_count": 4,
   "id": "3aa355cf-43da-4326-9069-3c2c58b24448",
   "metadata": {},
   "outputs": [],
   "source": [
    "header = data.first()\n",
    "rows = data.filter(lambda line: line != header)"
   ]
  },
  {
   "cell_type": "markdown",
   "id": "ab9a97f7-ba97-4a99-97fd-937d7de3d1d7",
   "metadata": {},
   "source": [
    "These statements extract the first line of the RDD as the header and then create a new RDD `rows` that excludes the header, leaving only the data rows."
   ]
  },
  {
   "cell_type": "code",
   "execution_count": 5,
   "id": "8c773267-010f-4f86-a3c8-d35e6de510db",
   "metadata": {},
   "outputs": [],
   "source": [
    "split_rdd = rows.map(lambda line: line.split(\",\"))"
   ]
  },
  {
   "cell_type": "markdown",
   "id": "c085ecb3-88ff-488e-8a99-f726ae3626a0",
   "metadata": {},
   "source": [
    "splits each line in the rows RDD by commas, creating a new RDD split_rdd where each element is a list of values representing the columns of a row."
   ]
  },
  {
   "cell_type": "code",
   "execution_count": 6,
   "id": "f33392a2-40a1-4dbf-bffc-ce9dbdf328a5",
   "metadata": {},
   "outputs": [],
   "source": [
    "housing_rdd = split_rdd.map(lambda x: (int(x[0]), float(x[1]), int(x[2]), int(x[3]), int(x[4]), x[5]))"
   ]
  },
  {
   "cell_type": "markdown",
   "id": "51b25979-7d51-410b-8c88-2a17eb30194f",
   "metadata": {},
   "source": [
    "This statement converts the split_rdd into a structured RDD housing_rdd by mapping each row to a tuple with appropriate data types: id as integer, price as float, area, bedrooms, and bathrooms as integers, and location as string."
   ]
  },
  {
   "cell_type": "code",
   "execution_count": 7,
   "id": "4ccc32b7-8c76-4621-8e91-817ad808954d",
   "metadata": {},
   "outputs": [
    {
     "name": "stdout",
     "output_type": "stream",
     "text": [
      "=== First 10 Rows ===\n",
      "(13300000, 7420.0, 4, 2, 3, 'yes')\n",
      "(12250000, 8960.0, 4, 4, 4, 'yes')\n",
      "(12250000, 9960.0, 3, 2, 2, 'yes')\n",
      "(12215000, 7500.0, 4, 2, 2, 'yes')\n",
      "(11410000, 7420.0, 4, 1, 2, 'yes')\n",
      "(10850000, 7500.0, 3, 3, 1, 'yes')\n",
      "(10150000, 8580.0, 4, 3, 4, 'yes')\n",
      "(10150000, 16200.0, 5, 3, 2, 'yes')\n",
      "(9870000, 8100.0, 4, 1, 2, 'yes')\n",
      "(9800000, 5750.0, 3, 2, 4, 'yes')\n"
     ]
    }
   ],
   "source": [
    "print(\"=== First 10 Rows ===\")\n",
    "for row in housing_rdd.take(10):\n",
    "    print(row)"
   ]
  },
  {
   "cell_type": "markdown",
   "id": "d17cfdee-7bf2-439f-8f42-6c1eee89bc80",
   "metadata": {},
   "source": [
    "These statements display a header message and then print the first 10 rows of the structured RDD housing_rdd to show a sample of the dataset."
   ]
  },
  {
   "cell_type": "code",
   "execution_count": 8,
   "id": "52e9425f-7d6f-4ac9-9fc1-0bc80e3a2d47",
   "metadata": {},
   "outputs": [],
   "source": [
    "avg_price_rdd = housing_rdd.map(lambda x: (x[5], (x[1], 1))) \\\n",
    "                           .reduceByKey(lambda a, b: (a[0] + b[0], a[1] + b[1])) \\\n",
    "                           .mapValues(lambda v: round(v[0] / v[1], 2))"
   ]
  },
  {
   "cell_type": "markdown",
   "id": "af5af4bd-c5d7-4484-9839-9e9c005a6717",
   "metadata": {},
   "source": [
    "This statement computes the average house price for each location by summing the prices and counts per location and then dividing the total price by the count, rounding the result to two decimal places.\n"
   ]
  },
  {
   "cell_type": "code",
   "execution_count": 9,
   "id": "7e7a77ba-46db-455b-a7a7-fa4b9f119cd9",
   "metadata": {},
   "outputs": [
    {
     "name": "stdout",
     "output_type": "stream",
     "text": [
      "\n",
      "=== Average Price ===\n",
      "no 3606.44\n",
      "yes 5404.59\n"
     ]
    }
   ],
   "source": [
    "print(\"\\n=== Average Price ===\")\n",
    "for loc, avg in avg_price_rdd.collect():\n",
    "    print(loc, avg)"
   ]
  },
  {
   "cell_type": "markdown",
   "id": "e7378b06-7efe-414f-b006-a7c9e926a70c",
   "metadata": {},
   "source": [
    "These statements display a header message and then print the average house price for each location by collecting and iterating over the results from avg_price_rdd."
   ]
  },
  {
   "cell_type": "code",
   "execution_count": 10,
   "id": "17421f11-9cf6-49f8-851d-fa8c27dfb089",
   "metadata": {},
   "outputs": [
    {
     "name": "stdout",
     "output_type": "stream",
     "text": [
      "Maximum area in dataset: 16200.0\n"
     ]
    }
   ],
   "source": [
    "max_area = housing_rdd.map(lambda x: x[1]).max()\n",
    "print(\"Maximum area in dataset:\", max_area)"
   ]
  },
  {
   "cell_type": "markdown",
   "id": "2f54a9c8-f4e4-4f82-8e54-7a5a9bfa1c70",
   "metadata": {},
   "source": [
    "To find the highest house area in the dataset by extracting the area from each row and then print the maximum value."
   ]
  },
  {
   "cell_type": "code",
   "execution_count": null,
   "id": "cab61091-4892-41ef-af08-2e72f5505c58",
   "metadata": {},
   "outputs": [],
   "source": []
  }
 ],
 "metadata": {
  "kernelspec": {
   "display_name": "Python 3 (ipykernel)",
   "language": "python",
   "name": "python3"
  },
  "language_info": {
   "codemirror_mode": {
    "name": "ipython",
    "version": 3
   },
   "file_extension": ".py",
   "mimetype": "text/x-python",
   "name": "python",
   "nbconvert_exporter": "python",
   "pygments_lexer": "ipython3",
   "version": "3.11.0"
  }
 },
 "nbformat": 4,
 "nbformat_minor": 5
}
