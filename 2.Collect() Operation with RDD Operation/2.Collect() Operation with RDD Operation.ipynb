{
 "cells": [
  {
   "cell_type": "code",
   "execution_count": 1,
   "id": "cade6343-742d-4ef4-a004-ba3494574a4c",
   "metadata": {},
   "outputs": [],
   "source": [
    "from pyspark.sql import SparkSession"
   ]
  },
  {
   "cell_type": "markdown",
   "id": "0c0dba43-5abd-4e33-bcff-e04ed47f9526",
   "metadata": {},
   "source": [
    "imports the SparkSession class from PySpark, which is used to create a Spark environment for reading, processing, and analyzing data."
   ]
  },
  {
   "cell_type": "code",
   "execution_count": 2,
   "id": "5fe8a9b6-b5ec-43a8-b69e-f921d2760324",
   "metadata": {},
   "outputs": [],
   "source": [
    "spark = SparkSession.builder.appName(\"HousingRDDExample\").getOrCreate()\n",
    "sc = spark.sparkContext"
   ]
  },
  {
   "cell_type": "markdown",
   "id": "27ebc659-0f00-4a3a-bd50-f1b7e8e62189",
   "metadata": {},
   "source": [
    "These statements create a Spark session named `\"HousingRDDExample\"` to set up the Spark environment and then access its SparkContext (`sc`) to perform low-level RDD operations."
   ]
  },
  {
   "cell_type": "code",
   "execution_count": 3,
   "id": "f6de6f05-b88b-41d9-879b-37b577696f6c",
   "metadata": {},
   "outputs": [],
   "source": [
    "data = sc.textFile(\"Housing.csv\")"
   ]
  },
  {
   "cell_type": "markdown",
   "id": "a6c9f081-3036-4581-9833-30de4d06f88d",
   "metadata": {},
   "source": [
    "reads the file \"Housing.csv\" as an RDD of text lines, allowing low-level Spark operations on each line of the dataset."
   ]
  },
  {
   "cell_type": "code",
   "execution_count": 4,
   "id": "65441a89-cbf6-4f57-bbe3-0e3587e92af7",
   "metadata": {},
   "outputs": [],
   "source": [
    "header = data.first()\n",
    "rows = data.filter(lambda line: line != header)"
   ]
  },
  {
   "cell_type": "markdown",
   "id": "ff475a23-e98b-4551-a700-79b117fecc99",
   "metadata": {},
   "source": [
    "extract the first line of the RDD as the header and then create a new RDD rows that excludes the header, leaving only the data rows."
   ]
  },
  {
   "cell_type": "code",
   "execution_count": 5,
   "id": "dc964803-5885-40a0-b9db-9a1d5faf5b12",
   "metadata": {},
   "outputs": [],
   "source": [
    "split_rdd = rows.map(lambda line: line.split(\",\"))"
   ]
  },
  {
   "cell_type": "markdown",
   "id": "c088eab4-36d7-4a6b-b090-9bb0dc79ef91",
   "metadata": {},
   "source": [
    "splits each line in the rows RDD by commas, creating a new RDD split_rdd where each element is a list of column values for a row."
   ]
  },
  {
   "cell_type": "code",
   "execution_count": 6,
   "id": "00e1cd33-a875-45cf-881e-9f2bde5afaff",
   "metadata": {
    "scrolled": true
   },
   "outputs": [
    {
     "name": "stdout",
     "output_type": "stream",
     "text": [
      "=== Housing Dataset (first 10 rows) ===\n",
      "['13300000', '7420', '4', '2', '3', 'yes', 'no', 'no', 'no', 'yes', '2', 'yes', 'furnished']\n",
      "['12250000', '8960', '4', '4', '4', 'yes', 'no', 'no', 'no', 'yes', '3', 'no', 'furnished']\n",
      "['12250000', '9960', '3', '2', '2', 'yes', 'no', 'yes', 'no', 'no', '2', 'yes', 'semi-furnished']\n",
      "['12215000', '7500', '4', '2', '2', 'yes', 'no', 'yes', 'no', 'yes', '3', 'yes', 'furnished']\n",
      "['11410000', '7420', '4', '1', '2', 'yes', 'yes', 'yes', 'no', 'yes', '2', 'no', 'furnished']\n",
      "['10850000', '7500', '3', '3', '1', 'yes', 'no', 'yes', 'no', 'yes', '2', 'yes', 'semi-furnished']\n",
      "['10150000', '8580', '4', '3', '4', 'yes', 'no', 'no', 'no', 'yes', '2', 'yes', 'semi-furnished']\n",
      "['10150000', '16200', '5', '3', '2', 'yes', 'no', 'no', 'no', 'no', '0', 'no', 'unfurnished']\n",
      "['9870000', '8100', '4', '1', '2', 'yes', 'yes', 'yes', 'no', 'yes', '2', 'yes', 'furnished']\n",
      "['9800000', '5750', '3', '2', '4', 'yes', 'yes', 'no', 'no', 'yes', '1', 'yes', 'unfurnished']\n"
     ]
    }
   ],
   "source": [
    "print(\"=== Housing Dataset (first 10 rows) ===\")\n",
    "for row in split_rdd.take(10):\n",
    "    print(row)"
   ]
  },
  {
   "cell_type": "markdown",
   "id": "d4d94666-457b-488e-9375-ec0e1e5b115b",
   "metadata": {},
   "source": [
    "display a header message and then print the first 10 rows of the split_rdd RDD to show a sample of the dataset."
   ]
  },
  {
   "cell_type": "code",
   "execution_count": 7,
   "id": "53d37231-81ed-44cc-b001-f721ed390ce1",
   "metadata": {},
   "outputs": [],
   "source": [
    "housing_rdd = split_rdd.map(lambda x: (int(x[0]), float(x[1]), int(x[2]), int(x[3]), float(x[4])))"
   ]
  },
  {
   "cell_type": "markdown",
   "id": "571da243-4ec7-440b-ac0b-9b030e344cd9",
   "metadata": {},
   "source": [
    "displays a header message and prints the first 10 rows of the split_rdd RDD, providing a sample view of the dataset."
   ]
  },
  {
   "cell_type": "code",
   "execution_count": 8,
   "id": "22824db2-14ce-48d4-9cef-4d59f741bc86",
   "metadata": {},
   "outputs": [],
   "source": [
    "price_per_area_rdd = housing_rdd.map(lambda x: (x[0], x[4] / x[1]))"
   ]
  },
  {
   "cell_type": "markdown",
   "id": "ebc70e2b-9b00-49a7-a16b-04658264b87d",
   "metadata": {},
   "source": [
    "creates a new RDD price_per_area_rdd by calculating the price per area for each house, mapping each row to a tuple of (id, price/area)."
   ]
  },
  {
   "cell_type": "code",
   "execution_count": 9,
   "id": "31fe6c7b-3540-45a2-9f3d-67833296807b",
   "metadata": {},
   "outputs": [],
   "source": [
    "expensive_rdd = price_per_area_rdd.filter(lambda x: x[1] >= 5000)"
   ]
  },
  {
   "cell_type": "markdown",
   "id": "abccc025-3aa7-487e-ab6b-9fe00410697e",
   "metadata": {},
   "source": [
    "filters the price_per_area_rdd to include only houses where the price per area is at least 5000, creating a new RDD expensive_rdd."
   ]
  },
  {
   "cell_type": "code",
   "execution_count": 10,
   "id": "2177c2c4-603c-4ee1-9843-62340fa56c97",
   "metadata": {},
   "outputs": [],
   "source": [
    "sorted_expensive_rdd = expensive_rdd.sortBy(lambda x: x[1], ascending=False)"
   ]
  },
  {
   "cell_type": "markdown",
   "id": "a5de073b-da4b-4ba0-87dc-8f323b2fca6d",
   "metadata": {},
   "source": [
    "sorts the expensive_rdd in descending order based on the price per area, creating a new RDD sorted_expensive_rdd."
   ]
  },
  {
   "cell_type": "code",
   "execution_count": 11,
   "id": "d74a920c-fd68-4087-a59c-f99beb5bc795",
   "metadata": {},
   "outputs": [],
   "source": [
    "results = sorted_expensive_rdd.collect()"
   ]
  },
  {
   "cell_type": "markdown",
   "id": "80542509-6fd1-4b6e-b7c8-52b65f9f363e",
   "metadata": {},
   "source": [
    "This statement collects all elements of the `sorted_expensive_rdd` RDD into a Python list named `results`, bringing the data from the distributed RDD to the local driver."
   ]
  },
  {
   "cell_type": "code",
   "execution_count": 15,
   "id": "e001f9ce-d2a9-478b-8814-398768dfa692",
   "metadata": {},
   "outputs": [
    {
     "name": "stdout",
     "output_type": "stream",
     "text": [
      "=== Top 10 Expensive Houses (Price per Area) ===\n",
      "ID: 6930000, Price per Area: 6600.00\n",
      "ID: 5110000, Price per Area: 5705.00\n",
      "ID: 5600000, Price per Area: 5250.00\n",
      "ID: 5943000, Price per Area: 5200.00\n",
      "ID: 4305000, Price per Area: 5180.00\n",
      "ID: 4760000, Price per Area: 5120.00\n",
      "ID: 4760000, Price per Area: 4583.00\n",
      "ID: 7070000, Price per Area: 4440.00\n",
      "ID: 9800000, Price per Area: 4400.00\n",
      "ID: 3500000, Price per Area: 4314.67\n"
     ]
    }
   ],
   "source": [
    "price_per_area_rdd = housing_rdd.map(lambda x: (x[0], x[1] / x[2]))\n",
    "sorted_expensive_rdd = price_per_area_rdd.sortBy(lambda x: x[1], ascending=False)\n",
    "top10_expensive = sorted_expensive_rdd.take(10)\n",
    "print(\"=== Top 10 Expensive Houses (Price per Area) ===\")\n",
    "for house in top10_expensive:\n",
    "    print(f\"ID: {house[0]}, Price per Area: {house[1]:.2f}\")"
   ]
  },
  {
   "cell_type": "markdown",
   "id": "bb043097-180b-446b-bd0f-1eaf6f7f88b1",
   "metadata": {},
   "source": [
    "This code calculates the price per area for each house, sorts the houses in descending order of price per area, retrieves the top 10 most expensive houses, and prints their IDs along with the price per area rounded to two decimals."
   ]
  },
  {
   "cell_type": "code",
   "execution_count": null,
   "id": "39e74d6b-2fed-4c9e-97be-b79634c741c0",
   "metadata": {},
   "outputs": [],
   "source": []
  }
 ],
 "metadata": {
  "kernelspec": {
   "display_name": "Python 3 (ipykernel)",
   "language": "python",
   "name": "python3"
  },
  "language_info": {
   "codemirror_mode": {
    "name": "ipython",
    "version": 3
   },
   "file_extension": ".py",
   "mimetype": "text/x-python",
   "name": "python",
   "nbconvert_exporter": "python",
   "pygments_lexer": "ipython3",
   "version": "3.11.0"
  }
 },
 "nbformat": 4,
 "nbformat_minor": 5
}
